{
  "nbformat": 4,
  "nbformat_minor": 0,
  "metadata": {
    "colab": {
      "name": "extracter.ipynb",
      "provenance": [],
      "collapsed_sections": []
    },
    "kernelspec": {
      "display_name": "Python 3",
      "language": "python",
      "name": "python3"
    },
    "language_info": {
      "codemirror_mode": {
        "name": "ipython",
        "version": 3
      },
      "file_extension": ".py",
      "mimetype": "text/x-python",
      "name": "python",
      "nbconvert_exporter": "python",
      "pygments_lexer": "ipython3",
      "version": "3.7.3"
    }
  },
  "cells": [
    {
      "cell_type": "markdown",
      "metadata": {
        "colab_type": "text",
        "id": "gWsRM32wGnGz"
      },
      "source": [
        "## Aim\n",
        "1. To extract all the stanford course homepages and automate making a readme.md file in a tabular form where it is .\n",
        "2. After finding the valid course homepages, the next task you should do is find all the archival web pages as the follow a pattern.\n"
      ]
    },
    {
      "cell_type": "code",
      "metadata": {
        "colab_type": "code",
        "id": "i5K203-pIcGS",
        "colab": {}
      },
      "source": [
        "import requests\n",
        "import time\n",
        "import lxml.html"
      ],
      "execution_count": 0,
      "outputs": []
    },
    {
      "cell_type": "code",
      "metadata": {
        "colab_type": "code",
        "id": "rjSr8TLSImBD",
        "colab": {}
      },
      "source": [
        "def check_website_exist(webpage):\n",
        "    '''\n",
        "    given a url for webpage returns true if website exist otherwise false.\n",
        "    '''\n",
        "    try:\n",
        "      request = requests.get(webpage)\n",
        "    except:\n",
        "      print(\"error occured, max retry\")\n",
        "      time.sleep(5)\n",
        "      return False \n",
        "    if request.status_code == 200:\n",
        "        return True\n",
        "    else:\n",
        "        return False"
      ],
      "execution_count": 0,
      "outputs": []
    },
    {
      "cell_type": "code",
      "metadata": {
        "colab_type": "code",
        "id": "Ue3w_RNvLAYd",
        "colab": {}
      },
      "source": [
        "def extract_homepage():\n",
        "    '''\n",
        "    Returns a list of url for the cs courses which are valid\n",
        "    '''\n",
        "    \n",
        "    course_no = []\n",
        "\n",
        "    for i in range(1, 301):\n",
        "        course_no.append(\"cs\" + str(i))\n",
        "\n",
        "    semester = []\n",
        "    for i in range(1100, 1208, 2):\n",
        "        semester.append(str(i))\n",
        "\n",
        "\n",
        "    cs_class = \"http://web.stanford.edu/class/\"\n",
        "\n",
        "    result = []\n",
        "    for ele1 in course_no:\n",
        "        current_website = cs_class + ele1\n",
        "        if check_website_exist(current_website):\n",
        "            result.append(current_website)\n",
        "            print(current_website)\n",
        "            \n",
        "    return result"
      ],
      "execution_count": 0,
      "outputs": []
    },
    {
      "cell_type": "code",
      "metadata": {
        "id": "J6fKyWz5ZYsh",
        "colab_type": "code",
        "colab": {}
      },
      "source": [
        "def find_titles(webpages):\n",
        "    '''\n",
        "    Given a list of webpages it returns a dictionary with key as title and value as url of that page.\n",
        "    '''\n",
        "    result = {}\n",
        "    for url in webpages:\n",
        "        try:\n",
        "          t = lxml.html.parse(url)\n",
        "        except OSError:\n",
        "          print(\"os error occured for url: \", url)\n",
        "          continue\n",
        "\n",
        "        if t.find(\".//title\") != None:\n",
        "          result[t.find(\".//title\").text] = url\n",
        "    \n",
        "    return result"
      ],
      "execution_count": 0,
      "outputs": []
    },
    {
      "cell_type": "code",
      "metadata": {
        "id": "OXiuTaMzZYsm",
        "colab_type": "code",
        "colab": {}
      },
      "source": [
        "def print_markdown_table(web_table):\n",
        "    '''\n",
        "    Given a dictionary, it prints a markdown table\n",
        "    '''\n",
        "    print(\"| Course Number | Link |\")\n",
        "    print(\"| --- | --- |\")\n",
        "    \n",
        "    for name, url in web_table.items():\n",
        "        course_no  = url.split(\"/\")[-1]\n",
        "        \n",
        "        print(f'|{course_no}|[{name}]({url})|')"
      ],
      "execution_count": 0,
      "outputs": []
    },
    {
      "cell_type": "code",
      "metadata": {
        "id": "jM7-Y6nkZYss",
        "colab_type": "code",
        "colab": {
          "base_uri": "https://localhost:8080/",
          "height": 1000
        },
        "outputId": "d36f0038-b331-4f26-8e43-c9b9b5e291c4"
      },
      "source": [
        "webpages = extract_homepage()"
      ],
      "execution_count": 15,
      "outputs": [
        {
          "output_type": "stream",
          "text": [
            "http://web.stanford.edu/class/cs9\n",
            "http://web.stanford.edu/class/cs20\n",
            "http://web.stanford.edu/class/cs22\n",
            "http://web.stanford.edu/class/cs41\n",
            "http://web.stanford.edu/class/cs42\n",
            "http://web.stanford.edu/class/cs43\n",
            "http://web.stanford.edu/class/cs47\n",
            "http://web.stanford.edu/class/cs50\n",
            "http://web.stanford.edu/class/cs51\n",
            "http://web.stanford.edu/class/cs52\n",
            "http://web.stanford.edu/class/cs84\n",
            "http://web.stanford.edu/class/cs93\n",
            "http://web.stanford.edu/class/cs101\n",
            "http://web.stanford.edu/class/cs102\n",
            "http://web.stanford.edu/class/cs103\n",
            "http://web.stanford.edu/class/cs105\n",
            "http://web.stanford.edu/class/cs107\n",
            "http://web.stanford.edu/class/cs108\n",
            "http://web.stanford.edu/class/cs109\n",
            "http://web.stanford.edu/class/cs110\n",
            "http://web.stanford.edu/class/cs116\n",
            "http://web.stanford.edu/class/cs121\n",
            "http://web.stanford.edu/class/cs122\n",
            "http://web.stanford.edu/class/cs123\n",
            "http://web.stanford.edu/class/cs124\n",
            "http://web.stanford.edu/class/cs129\n",
            "http://web.stanford.edu/class/cs131\n",
            "http://web.stanford.edu/class/cs137\n",
            "http://web.stanford.edu/class/cs138\n",
            "http://web.stanford.edu/class/cs140\n",
            "http://web.stanford.edu/class/cs142\n",
            "http://web.stanford.edu/class/cs143\n",
            "http://web.stanford.edu/class/cs144\n",
            "http://web.stanford.edu/class/cs145\n",
            "http://web.stanford.edu/class/cs146\n",
            "http://web.stanford.edu/class/cs147\n",
            "http://web.stanford.edu/class/cs148\n",
            "http://web.stanford.edu/class/cs149\n",
            "http://web.stanford.edu/class/cs154\n",
            "http://web.stanford.edu/class/cs155\n",
            "http://web.stanford.edu/class/cs156\n",
            "http://web.stanford.edu/class/cs157\n",
            "http://web.stanford.edu/class/cs161\n",
            "http://web.stanford.edu/class/cs166\n",
            "http://web.stanford.edu/class/cs168\n",
            "http://web.stanford.edu/class/cs173\n",
            "http://web.stanford.edu/class/cs178\n",
            "http://web.stanford.edu/class/cs181\n",
            "http://web.stanford.edu/class/cs182\n",
            "http://web.stanford.edu/class/cs184\n",
            "http://web.stanford.edu/class/cs190\n",
            "http://web.stanford.edu/class/cs194\n",
            "http://web.stanford.edu/class/cs195\n",
            "http://web.stanford.edu/class/cs196\n",
            "http://web.stanford.edu/class/cs197\n",
            "http://web.stanford.edu/class/cs198\n",
            "http://web.stanford.edu/class/cs200\n",
            "http://web.stanford.edu/class/cs201\n",
            "http://web.stanford.edu/class/cs202\n",
            "http://web.stanford.edu/class/cs205\n",
            "http://web.stanford.edu/class/cs206\n",
            "http://web.stanford.edu/class/cs207\n",
            "http://web.stanford.edu/class/cs208\n",
            "http://web.stanford.edu/class/cs210\n",
            "http://web.stanford.edu/class/cs213\n",
            "http://web.stanford.edu/class/cs221\n",
            "http://web.stanford.edu/class/cs222\n",
            "http://web.stanford.edu/class/cs227\n",
            "http://web.stanford.edu/class/cs228\n",
            "http://web.stanford.edu/class/cs229\n",
            "http://web.stanford.edu/class/cs230\n",
            "http://web.stanford.edu/class/cs232\n",
            "http://web.stanford.edu/class/cs234\n",
            "http://web.stanford.edu/class/cs235\n",
            "http://web.stanford.edu/class/cs238\n",
            "http://web.stanford.edu/class/cs240\n",
            "http://web.stanford.edu/class/cs241\n",
            "http://web.stanford.edu/class/cs242\n",
            "http://web.stanford.edu/class/cs243\n",
            "http://web.stanford.edu/class/cs244\n",
            "http://web.stanford.edu/class/cs245\n",
            "http://web.stanford.edu/class/cs246\n",
            "http://web.stanford.edu/class/cs247\n",
            "http://web.stanford.edu/class/cs248\n",
            "http://web.stanford.edu/class/cs251\n",
            "http://web.stanford.edu/class/cs253\n",
            "http://web.stanford.edu/class/cs254\n",
            "http://web.stanford.edu/class/cs255\n",
            "http://web.stanford.edu/class/cs256\n",
            "http://web.stanford.edu/class/cs257\n",
            "error occured, max retry\n",
            "error occured, max retry\n",
            "http://web.stanford.edu/class/cs261\n",
            "http://web.stanford.edu/class/cs262\n",
            "http://web.stanford.edu/class/cs267\n",
            "http://web.stanford.edu/class/cs268\n",
            "http://web.stanford.edu/class/cs273\n",
            "http://web.stanford.edu/class/cs275\n",
            "http://web.stanford.edu/class/cs276\n",
            "http://web.stanford.edu/class/cs277\n",
            "http://web.stanford.edu/class/cs278\n",
            "http://web.stanford.edu/class/cs279\n",
            "http://web.stanford.edu/class/cs294\n",
            "http://web.stanford.edu/class/cs295\n",
            "http://web.stanford.edu/class/cs298\n"
          ],
          "name": "stdout"
        },
        {
          "output_type": "error",
          "ename": "OSError",
          "evalue": "ignored",
          "traceback": [
            "\u001b[0;31m---------------------------------------------------------------------------\u001b[0m",
            "\u001b[0;31mOSError\u001b[0m                                   Traceback (most recent call last)",
            "\u001b[0;32m<ipython-input-15-193c85576a61>\u001b[0m in \u001b[0;36m<module>\u001b[0;34m()\u001b[0m\n\u001b[1;32m      1\u001b[0m \u001b[0mwebpages\u001b[0m \u001b[0;34m=\u001b[0m \u001b[0mextract_homepage\u001b[0m\u001b[0;34m(\u001b[0m\u001b[0;34m)\u001b[0m\u001b[0;34m\u001b[0m\u001b[0;34m\u001b[0m\u001b[0m\n\u001b[0;32m----> 2\u001b[0;31m \u001b[0mweb_table\u001b[0m \u001b[0;34m=\u001b[0m \u001b[0mfind_titles\u001b[0m\u001b[0;34m(\u001b[0m\u001b[0mwebpages\u001b[0m\u001b[0;34m)\u001b[0m\u001b[0;34m\u001b[0m\u001b[0;34m\u001b[0m\u001b[0m\n\u001b[0m\u001b[1;32m      3\u001b[0m \u001b[0mprint_markdown_table\u001b[0m\u001b[0;34m(\u001b[0m\u001b[0mweb_table\u001b[0m\u001b[0;34m)\u001b[0m\u001b[0;34m\u001b[0m\u001b[0;34m\u001b[0m\u001b[0m\n",
            "\u001b[0;32m<ipython-input-13-2dc18683b32b>\u001b[0m in \u001b[0;36mfind_titles\u001b[0;34m(webpages)\u001b[0m\n\u001b[1;32m      5\u001b[0m     \u001b[0mresult\u001b[0m \u001b[0;34m=\u001b[0m \u001b[0;34m{\u001b[0m\u001b[0;34m}\u001b[0m\u001b[0;34m\u001b[0m\u001b[0;34m\u001b[0m\u001b[0m\n\u001b[1;32m      6\u001b[0m     \u001b[0;32mfor\u001b[0m \u001b[0murl\u001b[0m \u001b[0;32min\u001b[0m \u001b[0mwebpages\u001b[0m\u001b[0;34m:\u001b[0m\u001b[0;34m\u001b[0m\u001b[0;34m\u001b[0m\u001b[0m\n\u001b[0;32m----> 7\u001b[0;31m         \u001b[0mt\u001b[0m \u001b[0;34m=\u001b[0m \u001b[0mlxml\u001b[0m\u001b[0;34m.\u001b[0m\u001b[0mhtml\u001b[0m\u001b[0;34m.\u001b[0m\u001b[0mparse\u001b[0m\u001b[0;34m(\u001b[0m\u001b[0murl\u001b[0m\u001b[0;34m)\u001b[0m\u001b[0;34m\u001b[0m\u001b[0;34m\u001b[0m\u001b[0m\n\u001b[0m\u001b[1;32m      8\u001b[0m         \u001b[0mresult\u001b[0m\u001b[0;34m[\u001b[0m\u001b[0mt\u001b[0m\u001b[0;34m.\u001b[0m\u001b[0mfind\u001b[0m\u001b[0;34m(\u001b[0m\u001b[0;34m\".//title\"\u001b[0m\u001b[0;34m)\u001b[0m\u001b[0;34m.\u001b[0m\u001b[0mtext\u001b[0m\u001b[0;34m]\u001b[0m \u001b[0;34m=\u001b[0m \u001b[0murl\u001b[0m\u001b[0;34m\u001b[0m\u001b[0;34m\u001b[0m\u001b[0m\n\u001b[1;32m      9\u001b[0m \u001b[0;34m\u001b[0m\u001b[0m\n",
            "\u001b[0;32m/usr/local/lib/python3.6/dist-packages/lxml/html/__init__.py\u001b[0m in \u001b[0;36mparse\u001b[0;34m(filename_or_url, parser, base_url, **kw)\u001b[0m\n\u001b[1;32m    937\u001b[0m     \u001b[0;32mif\u001b[0m \u001b[0mparser\u001b[0m \u001b[0;32mis\u001b[0m \u001b[0;32mNone\u001b[0m\u001b[0;34m:\u001b[0m\u001b[0;34m\u001b[0m\u001b[0;34m\u001b[0m\u001b[0m\n\u001b[1;32m    938\u001b[0m         \u001b[0mparser\u001b[0m \u001b[0;34m=\u001b[0m \u001b[0mhtml_parser\u001b[0m\u001b[0;34m\u001b[0m\u001b[0;34m\u001b[0m\u001b[0m\n\u001b[0;32m--> 939\u001b[0;31m     \u001b[0;32mreturn\u001b[0m \u001b[0metree\u001b[0m\u001b[0;34m.\u001b[0m\u001b[0mparse\u001b[0m\u001b[0;34m(\u001b[0m\u001b[0mfilename_or_url\u001b[0m\u001b[0;34m,\u001b[0m \u001b[0mparser\u001b[0m\u001b[0;34m,\u001b[0m \u001b[0mbase_url\u001b[0m\u001b[0;34m=\u001b[0m\u001b[0mbase_url\u001b[0m\u001b[0;34m,\u001b[0m \u001b[0;34m**\u001b[0m\u001b[0mkw\u001b[0m\u001b[0;34m)\u001b[0m\u001b[0;34m\u001b[0m\u001b[0;34m\u001b[0m\u001b[0m\n\u001b[0m\u001b[1;32m    940\u001b[0m \u001b[0;34m\u001b[0m\u001b[0m\n\u001b[1;32m    941\u001b[0m \u001b[0;34m\u001b[0m\u001b[0m\n",
            "\u001b[0;32msrc/lxml/etree.pyx\u001b[0m in \u001b[0;36mlxml.etree.parse\u001b[0;34m()\u001b[0m\n",
            "\u001b[0;32msrc/lxml/parser.pxi\u001b[0m in \u001b[0;36mlxml.etree._parseDocument\u001b[0;34m()\u001b[0m\n",
            "\u001b[0;32msrc/lxml/parser.pxi\u001b[0m in \u001b[0;36mlxml.etree._parseDocumentFromURL\u001b[0;34m()\u001b[0m\n",
            "\u001b[0;32msrc/lxml/parser.pxi\u001b[0m in \u001b[0;36mlxml.etree._parseDocFromFile\u001b[0;34m()\u001b[0m\n",
            "\u001b[0;32msrc/lxml/parser.pxi\u001b[0m in \u001b[0;36mlxml.etree._BaseParser._parseDocFromFile\u001b[0;34m()\u001b[0m\n",
            "\u001b[0;32msrc/lxml/parser.pxi\u001b[0m in \u001b[0;36mlxml.etree._ParserContext._handleParseResultDoc\u001b[0;34m()\u001b[0m\n",
            "\u001b[0;32msrc/lxml/parser.pxi\u001b[0m in \u001b[0;36mlxml.etree._handleParseResult\u001b[0;34m()\u001b[0m\n",
            "\u001b[0;32msrc/lxml/parser.pxi\u001b[0m in \u001b[0;36mlxml.etree._raiseParseError\u001b[0;34m()\u001b[0m\n",
            "\u001b[0;31mOSError\u001b[0m: Error reading file 'http://web.stanford.edu/class/cs20': failed to load external entity \"http://web.stanford.edu/class/cs20\""
          ]
        }
      ]
    },
    {
      "cell_type": "code",
      "metadata": {
        "id": "HczdzfbEj1DI",
        "colab_type": "code",
        "colab": {
          "base_uri": "https://localhost:8080/",
          "height": 119
        },
        "outputId": "24d0715b-ce49-46c3-9111-504c8226955d"
      },
      "source": [
        "web_tables = find_titles(webpages)"
      ],
      "execution_count": 21,
      "outputs": [
        {
          "output_type": "stream",
          "text": [
            "os error occured for url:  http://web.stanford.edu/class/cs20\n",
            "os error occured for url:  http://web.stanford.edu/class/cs116\n",
            "os error occured for url:  http://web.stanford.edu/class/cs181\n",
            "os error occured for url:  http://web.stanford.edu/class/cs190\n",
            "os error occured for url:  http://web.stanford.edu/class/cs253\n",
            "os error occured for url:  http://web.stanford.edu/class/cs255\n"
          ],
          "name": "stdout"
        }
      ]
    },
    {
      "cell_type": "code",
      "metadata": {
        "id": "Fun8UE4BlHqo",
        "colab_type": "code",
        "colab": {
          "base_uri": "https://localhost:8080/",
          "height": 1000
        },
        "outputId": "1b897a14-02f8-46b6-9971-536ec087e644"
      },
      "source": [
        "print_markdown_table(web_tables)"
      ],
      "execution_count": 23,
      "outputs": [
        {
          "output_type": "stream",
          "text": [
            "| Course Number | Link |\n",
            "| --- | --- |\n",
            "|cs9|[CS9: Problem-Solving for the CS Technical Interview](http://web.stanford.edu/class/cs9)|\n",
            "|cs22|[CS22: The History and Philosophy of Artificial Intelligence](http://web.stanford.edu/class/cs22)|\n",
            "|cs41|[Index of /class/cs41](http://web.stanford.edu/class/cs41)|\n",
            "|cs42|[Callback Me Maybe: Contemporary JavaScript (CS 42)](http://web.stanford.edu/class/cs42)|\n",
            "|cs47|[Cross-Platform Mobile Development (CS 47)](http://web.stanford.edu/class/cs47)|\n",
            "|cs50|[CS 50 : Using Tech For Good](http://web.stanford.edu/class/cs50)|\n",
            "|cs51|[ CS+SG Studio ](http://web.stanford.edu/class/cs51)|\n",
            "|cs52|[title](http://web.stanford.edu/class/cs52)|\n",
            "|cs84|[Index of /class/cs84](http://web.stanford.edu/class/cs84)|\n",
            "|cs93|[\n",
            "  CS93: Teaching AI](http://web.stanford.edu/class/cs93)|\n",
            "|cs101|[CS101 Introduction to Computing Principles](http://web.stanford.edu/class/cs101)|\n",
            "|cs102|[\n",
            "    CS 102: Working with Data - Tools and Techniques\n",
            "  ](http://web.stanford.edu/class/cs102)|\n",
            "|cs103|[CS103](http://web.stanford.edu/class/cs103)|\n",
            "|cs105|[Welcome to CS105](http://web.stanford.edu/class/cs105)|\n",
            "|cs107|[CS107 Computer Organization & Systems](http://web.stanford.edu/class/cs107)|\n",
            "|cs108|[Welcome to CS108](http://web.stanford.edu/class/cs108)|\n",
            "|cs109|[CS109  | Home](http://web.stanford.edu/class/cs109)|\n",
            "|cs110|[CS110: Principles of Computer Systems](http://web.stanford.edu/class/cs110)|\n",
            "|cs122|[CS122: Artificial Intelligence - Philosophy, Ethics, and Impact](http://web.stanford.edu/class/cs122)|\n",
            "|cs123|[CS 123: Programming Your Personal Robot](http://web.stanford.edu/class/cs123)|\n",
            "|cs124|[CS124 - From Languages to Information (Winter 2020)](http://web.stanford.edu/class/cs124)|\n",
            "|cs129|[\n",
            "  CS129: Machine Learning](http://web.stanford.edu/class/cs129)|\n",
            "|cs131|[Index of /class/cs131](http://web.stanford.edu/class/cs131)|\n",
            "|cs137|[CS137: Introduction to Scientific Computing](http://web.stanford.edu/class/cs137)|\n",
            "|cs140|[CS 140: Operating Systems](http://web.stanford.edu/class/cs140)|\n",
            "|cs142|[CS142: Web Applications](http://web.stanford.edu/class/cs142)|\n",
            "|cs143|[CS143: Compilers](http://web.stanford.edu/class/cs143)|\n",
            "|cs144|[CS144 Fall 2019](http://web.stanford.edu/class/cs144)|\n",
            "|cs145|[Index of /class/cs145](http://web.stanford.edu/class/cs145)|\n",
            "|cs147|[Index of /class/cs147](http://web.stanford.edu/class/cs147)|\n",
            "|cs148|[CS 148: Introduction to Computer Graphics and Imaging](http://web.stanford.edu/class/cs148)|\n",
            "|cs149|[Index of /class/cs149](http://web.stanford.edu/class/cs149)|\n",
            "|cs155|[Index of /class/cs155](http://web.stanford.edu/class/cs155)|\n",
            "|cs156|[CS156: The Calculus of Computation, Winter 2010](http://web.stanford.edu/class/cs156)|\n",
            "|cs157|[Index of /class/cs157](http://web.stanford.edu/class/cs157)|\n",
            "|cs161|[CS 161](http://web.stanford.edu/class/cs161)|\n",
            "|cs166|[CS166: Data Structures](http://web.stanford.edu/class/cs166)|\n",
            "|cs168|[The Modern Algorithmic Toolbox (CS168), Spring 2019-2020](http://web.stanford.edu/class/cs168)|\n",
            "|cs178|[Index of /class/cs178](http://web.stanford.edu/class/cs178)|\n",
            "|cs182|[CS182: Ethics, Public Policy, and Technological Change](http://web.stanford.edu/class/cs182)|\n",
            "|cs194|[CS 194 - Software Project Experience](http://web.stanford.edu/class/cs194)|\n",
            "|cs195|[CS195 Software Engineering](http://web.stanford.edu/class/cs195)|\n",
            "|cs196|[CS 196: Computer Consulting Course Homepage](http://web.stanford.edu/class/cs196)|\n",
            "|cs197|[CS197](http://web.stanford.edu/class/cs197)|\n",
            "|cs198|[CS198 @ Stanford](http://web.stanford.edu/class/cs198)|\n",
            "|cs200|[Welcome to CS200](http://web.stanford.edu/class/cs200)|\n",
            "|cs201|[CS 201, section 01](http://web.stanford.edu/class/cs201)|\n",
            "|cs202|[CS202 Homepage](http://web.stanford.edu/class/cs202)|\n",
            "|cs205|[CS 205A: Mathematical Methods for Computer Vision, Robotics, And Graphics](http://web.stanford.edu/class/cs205)|\n",
            "|cs206|[CS 206: Technical Foundations of Electronic Commerce](http://web.stanford.edu/class/cs206)|\n",
            "|cs207|[CS 207: The Economics of Software.](http://web.stanford.edu/class/cs207)|\n",
            "|cs208|[CS208: Canon of Computer Science, Spring 2011](http://web.stanford.edu/class/cs208)|\n",
            "|cs210|[CS210](http://web.stanford.edu/class/cs210)|\n",
            "|cs213|[CS213 Creating Great VR: From Ideation to Monetization](http://web.stanford.edu/class/cs213)|\n",
            "|cs222|[CS 222 / Phil 358: Rational Agency and Intelligent Interaction, Spring 2010](http://web.stanford.edu/class/cs222)|\n",
            "|cs227|[CS227:Knowledge Representation and Reasoning, Spr2011](http://web.stanford.edu/class/cs227)|\n",
            "|cs228|[Page Redirection](http://web.stanford.edu/class/cs228)|\n",
            "|cs229|[CS229: Machine Learning](http://web.stanford.edu/class/cs229)|\n",
            "|cs230|[CS230 Deep Learning](http://web.stanford.edu/class/cs230)|\n",
            "|cs232|[Index of /class/cs232](http://web.stanford.edu/class/cs232)|\n",
            "|cs234|[CS234: Reinforcement Learning Winter 2020](http://web.stanford.edu/class/cs234)|\n",
            "|cs235|[Index of /class/cs235](http://web.stanford.edu/class/cs235)|\n",
            "|cs240|[Stanford CS240: Advanced Topics in Operating Systems](http://web.stanford.edu/class/cs240)|\n",
            "|cs242|[Index of /class/cs242](http://web.stanford.edu/class/cs242)|\n",
            "|cs243|[Index of /class/cs243](http://web.stanford.edu/class/cs243)|\n",
            "|cs244|[CS244: Advanced Topics in Networking, Spring 2020](http://web.stanford.edu/class/cs244)|\n",
            "|cs245|[CS 245: Principles of Data-Intensive Systems (Winter 2020)](http://web.stanford.edu/class/cs245)|\n",
            "|cs246|[CS246 | Home](http://web.stanford.edu/class/cs246)|\n",
            "|cs247|[Index of /class/cs247](http://web.stanford.edu/class/cs247)|\n",
            "|cs248|[CS 248: Interactive Computer Graphics](http://web.stanford.edu/class/cs248)|\n",
            "|cs256|[CS256: Formal Methods for Reactive Systems](http://web.stanford.edu/class/cs256)|\n",
            "|cs257|[CS 257 / Phil 356C](http://web.stanford.edu/class/cs257)|\n",
            "|cs261|[CS 261](http://web.stanford.edu/class/cs261)|\n",
            "|cs268|[CS268 Main Page](http://web.stanford.edu/class/cs268)|\n",
            "|cs273|[CS273 home page](http://web.stanford.edu/class/cs273)|\n",
            "|cs275|[Index of /class/cs275](http://web.stanford.edu/class/cs275)|\n",
            "|cs276|[CS 276: Information Retrieval and Web Search](http://web.stanford.edu/class/cs276)|\n",
            "|cs277|[Home](http://web.stanford.edu/class/cs277)|\n",
            "|cs279|[CS279: Structure and Organization of Biomolecules and Cells](http://web.stanford.edu/class/cs279)|\n",
            "|cs295|[Index of /class/cs295](http://web.stanford.edu/class/cs295)|\n",
            "|cs298|[CS298 Spring 2019](http://web.stanford.edu/class/cs298)|\n"
          ],
          "name": "stdout"
        }
      ]
    },
    {
      "cell_type": "code",
      "metadata": {
        "id": "av8rgaWTlHuA",
        "colab_type": "code",
        "colab": {}
      },
      "source": [
        ""
      ],
      "execution_count": 0,
      "outputs": []
    },
    {
      "cell_type": "code",
      "metadata": {
        "colab_type": "code",
        "id": "D_JHk0bPI9xc",
        "colab": {}
      },
      "source": [
        "course_no = [\"cs47\"]\n",
        "\n",
        "for i in range(1, 301):\n",
        "  course_no.append(\"cs\" + str(i))\n",
        "\n",
        "semester = []\n",
        "for i in range(1100, 1208, 2):\n",
        "  semester.append(str(i))\n",
        "\n",
        "initial_link = \"http://web.stanford.edu/class/archive/cs/\"\n",
        "end_link = \"/\"\n",
        "\n",
        "\n",
        "\n",
        "result = []\n",
        "for ele1 in course_no:\n",
        "\n",
        "  for ele2 in semester:\n",
        "    string = initial_link + ele1 + \"/\" + ele1 + \".\" + ele2 + end_link\n",
        "    # print(string)\n",
        "    # print(\"checking for\", ele2)\n",
        "    if check_website_exist(string):\n",
        "      print(string)\n",
        "      result.append(string)\n",
        "    # time.sleep(1)\n",
        "\n",
        "for ele in result:\n",
        "  print(ele)"
      ],
      "execution_count": 0,
      "outputs": []
    }
  ]
}